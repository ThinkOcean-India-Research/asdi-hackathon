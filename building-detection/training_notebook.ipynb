{
 "cells": [
  {
   "cell_type": "code",
   "execution_count": 48,
   "metadata": {},
   "outputs": [],
   "source": [
    "import torch\n",
    "from torch.utils.data import Dataset\n",
    "from PIL import Image\n",
    "import os\n",
    "import numpy as np\n",
    "import matplotlib.pyplot as plt\n",
    "import torchvision\n",
    "from typing import Tuple\n",
    "import segmentation_models_pytorch as smp\n",
    "from segmentation_models_pytorch.encoders import get_preprocessing_fn"
   ]
  },
  {
   "cell_type": "markdown",
   "metadata": {},
   "source": [
    "We will be only catering to AOI : Rio for now.\n",
    "\n",
    "ref : https://pytorch.org/tutorials/intermediate/torchvision_tutorial.html#writing-a-custom-dataset-for-pennfudan"
   ]
  },
  {
   "cell_type": "code",
   "execution_count": 28,
   "metadata": {},
   "outputs": [],
   "source": [
    "SATELLITE_IMAGES_PATH = 'data/AOI_1_rio/imgs'\n",
    "MASKS_PATH = 'data/AOI_1_rio/masks'\n",
    "IMG_SIZE = (438, 406) # width, height"
   ]
  },
  {
   "cell_type": "code",
   "execution_count": 79,
   "metadata": {},
   "outputs": [],
   "source": [
    "# A `Dataset` should override `__len__` and `__getitem__`\n",
    "class BuildingFootprintDataset(Dataset):\n",
    "    def __init__(self, satellite_imgs_path:str, masks_path:str, img_size:Tuple[int,int], transforms=None) -> None:\n",
    "        super().__init__()\n",
    "        self.transforms = transforms\n",
    "        assert os.path.isdir(masks_path)\n",
    "        assert os.path.isdir(satellite_imgs_path)\n",
    "        self.satellite_imgs_path = satellite_imgs_path\n",
    "        self.masks_path = masks_path \n",
    "        self.img_size=img_size\n",
    "        self.images = sorted(os.listdir(satellite_imgs_path), key=lambda x: int(x.split('.')[0]))\n",
    "        self.image_masks = sorted(os.listdir(masks_path), key=lambda x: int(x.split('.')[0]))\n",
    "    def __len__(self):\n",
    "        return len(self.image_masks)\n",
    "    def __getitem__(self, index):\n",
    "        img = Image.open(os.path.join(self.satellite_imgs_path, self.images[index])).convert(\"RGB\").resize(self.img_size)\n",
    "        # without nearest resampling, adds more unique values than present with bicubic interpolation\n",
    "        mask = Image.open(os.path.join(self.masks_path, self.image_masks[index])).resize(self.img_size, resample=Image.Resampling.NEAREST)\n",
    "        # split mask into many masks, one per instance\n",
    "        # each instance has a different color, as defined in the mask creation process from the raster files\n",
    "        mask_np = np.array(mask)\n",
    "        obj_ids = np.sort(np.unique(mask_np))[1:]\n",
    "        masks = mask_np==obj_ids[:,None,None] \n",
    "        return img,masks\n",
    "        \n",
    "    "
   ]
  },
  {
   "cell_type": "code",
   "execution_count": 80,
   "metadata": {},
   "outputs": [
    {
     "name": "stdout",
     "output_type": "stream",
     "text": [
      "6940\n"
     ]
    },
    {
     "data": {
      "text/plain": [
       "<matplotlib.image.AxesImage at 0x7f2390d36d00>"
      ]
     },
     "execution_count": 80,
     "metadata": {},
     "output_type": "execute_result"
    },
    {
     "data": {
      "image/png": "[encoded data removed]",
      "text/plain": [
       "<Figure size 432x288 with 1 Axes>"
      ]
     },
     "metadata": {
      "needs_background": "light"
     },
     "output_type": "display_data"
    }
   ],
   "source": [
    "dataset = BuildingFootprintDataset(SATELLITE_IMAGES_PATH,MASKS_PATH, IMG_SIZE)\n",
    "print(len(dataset))\n",
    "img, masks = dataset[6939]\n",
    "plt.imshow(masks[5],cmap='gray')"
   ]
  },
  {
   "cell_type": "code",
   "execution_count": 17,
   "metadata": {},
   "outputs": [],
   "source": [
    "model = smp.Unet(\n",
    "    encoder_name=\"resnet34\",     \n",
    "    encoder_weights=\"imagenet\",  \n",
    "    in_channels=3,               \n",
    "    classes=1,                   \n",
    ")"
   ]
  },
  {
   "cell_type": "code",
   "execution_count": 20,
   "metadata": {},
   "outputs": [],
   "source": [
    "preprocess_input = get_preprocessing_fn('resnet18', pretrained='imagenet')"
   ]
  },
  {
   "cell_type": "code",
   "execution_count": 66,
   "metadata": {},
   "outputs": [
    {
     "data": {
      "image/png": "[encoded data removed]",
      "text/plain": [
       "<PIL.PngImagePlugin.PngImageFile image mode=L size=439x407>"
      ]
     },
     "execution_count": 66,
     "metadata": {},
     "output_type": "execute_result"
    }
   ],
   "source": [
    "img = Image.open(f'{MASKS_PATH}/6940.png')\n",
    "img"
   ]
  },
  {
   "cell_type": "code",
   "execution_count": 70,
   "metadata": {},
   "outputs": [
    {
     "data": {
      "text/plain": [
       "19"
      ]
     },
     "execution_count": 70,
     "metadata": {},
     "output_type": "execute_result"
    }
   ],
   "source": [
    "len(np.unique(img))"
   ]
  },
  {
   "cell_type": "code",
   "execution_count": 73,
   "metadata": {},
   "outputs": [
    {
     "data": {
      "text/plain": [
       "19"
      ]
     },
     "execution_count": 73,
     "metadata": {},
     "output_type": "execute_result"
    }
   ],
   "source": [
    "len(np.unique(img.resize(IMG_SIZE, resample=Image.Resampling.NEAREST)))"
   ]
  },
  {
   "cell_type": "code",
   "execution_count": 65,
   "metadata": {},
   "outputs": [
    {
     "data": {
      "text/plain": [
       "195"
      ]
     },
     "execution_count": 65,
     "metadata": {},
     "output_type": "execute_result"
    }
   ],
   "source": [
    "len(np.sort(np.unique(np.array(img))))"
   ]
  },
  {
   "cell_type": "code",
   "execution_count": 14,
   "metadata": {},
   "outputs": [
    {
     "data": {
      "text/plain": [
       "torch.Size([407, 439])"
      ]
     },
     "execution_count": 14,
     "metadata": {},
     "output_type": "execute_result"
    }
   ],
   "source": [
    "torch.Tensor(np.array(img)).shape"
   ]
  }
 ],
 "metadata": {
  "kernelspec": {
   "display_name": "Python 3.8.13 ('thinkocean')",
   "language": "python",
   "name": "python3"
  },
  "language_info": {
   "codemirror_mode": {
    "name": "ipython",
    "version": 3
   },
   "file_extension": ".py",
   "mimetype": "text/x-python",
   "name": "python",
   "nbconvert_exporter": "python",
   "pygments_lexer": "ipython3",
   "version": "3.8.13"
  },
  "orig_nbformat": 4,
  "vscode": {
   "interpreter": {
    "hash": "08ab51d77584dfc91de062ca88a6488756b7dcea4aa9eb818ace50050ecf73d6"
   }
  }
 },
 "nbformat": 4,
 "nbformat_minor": 2
}
